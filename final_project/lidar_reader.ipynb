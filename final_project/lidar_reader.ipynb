{
 "cells": [
  {
   "cell_type": "code",
   "execution_count": 1,
   "metadata": {},
   "outputs": [
    {
     "name": "stdout",
     "output_type": "stream",
     "text": [
      "Jupyter environment detected. Enabling Open3D WebVisualizer.\n",
      "[Open3D INFO] WebRTC GUI backend enabled.\n",
      "[Open3D INFO] WebRTCWindowSystem: HTTP handshake server disabled.\n"
     ]
    }
   ],
   "source": [
    "import correct_lidar\n",
    "import open3d as o3d\n",
    "from pyntcloud import PyntCloud\n",
    "# transform \n",
    "import numpy as np\n",
    "import matplotlib.pyplot as plt\n",
    "# from open3d import JVisualizer\n",
    "import glob\n",
    "import rasterio as rio\n",
    "\n"
   ]
  },
  {
   "cell_type": "code",
   "execution_count": 2,
   "metadata": {},
   "outputs": [],
   "source": [
    "# get all files in the data/l2/snow_off directory\n",
    "files = glob.glob(\"data/l2/snow_on/*.lvx\")\n",
    "lidar = \"l2\"\n",
    "for file in files:\n",
    "    points = correct_lidar.load_first_file(lidar, file_search=file)\n",
    "    pcd = o3d.geometry.PointCloud()\n",
    "    pcd.points = o3d.utility.Vector3dVector(points.T)\n",
    "    o3d.io.write_point_cloud(filename=f\"./data/l2/snow_on/{lidar}_2022-10-23_01-00.pcd\", pointcloud=pcd)"
   ]
  },
  {
   "cell_type": "code",
   "execution_count": null,
   "metadata": {},
   "outputs": [],
   "source": [
    "lidars = [\"l1\", \"l2\", \"l4\", \"l5\", \"l6\"]\n",
    "for lidar in lidars:\n",
    "    points = correct_lidar.load_first_file(lidar, file_search=f\"./data/snow_off/{lidar}_2022-10-23_*.lvx\")\n",
    "    pcd = o3d.geometry.PointCloud()\n",
    "    pcd.points = o3d.utility.Vector3dVector(points.T)\n",
    "    o3d.io.write_point_cloud(filename=f\"./data/snow_off/{lidar}_2022-10-23_01-00.pcd\", pointcloud=pcd)\n",
    "# o3d.visualization.draw_geometries([pcd])\n",
    "\n",
    "# visualizer = JVisualizer()\n",
    "# visualizer.add_geometry(pcd)\n",
    "# visualizer.show()"
   ]
  },
  {
   "cell_type": "code",
   "execution_count": 15,
   "metadata": {},
   "outputs": [
    {
     "data": {
      "text/plain": [
       "array([63.987, 24.869, 37.463, 28.   ,  1.   , 16.   ])"
      ]
     },
     "execution_count": 15,
     "metadata": {},
     "output_type": "execute_result"
    }
   ],
   "source": [
    "points = correct_lidar.read_file(filename=f\"./data/snow_off/{lidar}_2022-10-23_*.lvx\")\n"
   ]
  },
  {
   "cell_type": "code",
   "execution_count": 28,
   "metadata": {},
   "outputs": [
    {
     "data": {
      "text/plain": [
       "array([[64.042, 63.987, 63.831, ..., 10.543, 10.574, 10.632],\n",
       "       [24.978, 24.869, 24.719, ..., -5.847, -5.831, -5.83 ],\n",
       "       [37.461, 37.463, 37.402, ..., -0.958, -0.966, -0.975]])"
      ]
     },
     "execution_count": 28,
     "metadata": {},
     "output_type": "execute_result"
    }
   ],
   "source": [
    "points[:,:3].T"
   ]
  },
  {
   "cell_type": "code",
   "execution_count": 29,
   "metadata": {},
   "outputs": [
    {
     "data": {
      "text/plain": [
       "True"
      ]
     },
     "execution_count": 29,
     "metadata": {},
     "output_type": "execute_result"
    }
   ],
   "source": [
    "pcd = o3d.geometry.PointCloud()\n",
    "pcd.points = o3d.utility.Vector3dVector(points[:,:3])\n",
    "o3d.io.write_point_cloud(filename=f\"./data/snow_off/{lidar}_test.pcd\", pointcloud=pcd)"
   ]
  },
  {
   "cell_type": "code",
   "execution_count": 54,
   "metadata": {},
   "outputs": [
    {
     "name": "stdout",
     "output_type": "stream",
     "text": [
      "Number of NaNs: <xarray.DataArray ()>\n",
      "array(3426220)\n",
      "Coordinates:\n",
      "    band         int32 1\n",
      "    spatial_ref  int32 0\n",
      "Number of non-NaNs: 51980\n"
     ]
    }
   ],
   "source": [
    "import rioxarray as rxr\n",
    "\n",
    "# open the raster\n",
    "raster = rxr.open_rasterio(\"data/raster.tif\", masked=True).squeeze()\n",
    "\n",
    "# print the number of nans\n",
    "print(f\"Number of NaNs: {np.isnan(raster).sum()}\")\n",
    "# print the number of non-nans\n",
    "print(f\"Number of non-NaNs: {np.count_nonzero(~np.isnan(raster))}\")\n",
    "raster.plot.imshow(\n",
    "    #increase point size\n",
    "    cmap=\"viridis\",\n",
    "    size=10,\n",
    "    aspect=1.5,\n",
    "    robust=True,\n",
    ")"
   ]
  },
  {
   "cell_type": "code",
   "execution_count": null,
   "metadata": {},
   "outputs": [],
   "source": [
    "def correct_data(points, azimuth, xoffset, yoffset, zoffset, roll=0, elevation_adjustment=0,\n",
    "                 global_adjustment=True, background_correction=None, correct_l5=False):\n",
    "    \"\"\"\n",
    "    Apply corrections to raw lidar data for known lidar positions/orientations and to correct background light effects.\n",
    "    Optionally do not reposition points into a common reference across lidars.\n",
    "    Background light correction only applied if calibration targets are specified.\n",
    "    \"\"\"\n",
    "\n",
    "    # first take out 30deg downward pointing mount for all lidars\n",
    "    if elevation_adjustment==0:\n",
    "        pr = rotate_data(v=points[:,:3].T, axis=[0, 0, 1], theta=np.deg2rad(-30.0), rotation=None)   # 31 deg\n",
    "    else:\n",
    "        pr = rotate_data(v=points[:,:3].T, axis=[0, 0, 1], theta=np.deg2rad(-30.0+elevation_adjustment), rotation=None)   # 31 deg\n",
    "\n",
    "    # Then account for mounting on a vertical mount\n",
    "    if roll==0:\n",
    "        pr = rotate_data(pr, axis=[1,0,0],theta=np.pi/2)\n",
    "    else:\n",
    "        pr = rotate_data(pr, axis=[1,0,0],theta=np.pi/2 + np.deg2rad(roll))\n",
    "\n",
    "    if correct_l5:\n",
    "        pr = update_l5(pr)\n",
    "\n",
    "    if background_correction is not None:\n",
    "        pr = correct_points_background(pr, background_correction)\n",
    "\n",
    "\n",
    "    if global_adjustment:\n",
    "        # Then rotate to a common map orientation\n",
    "        pr = rotate_data(pr, axis=[0,0,1],theta=np.deg2rad(azimuth))\n",
    "\n",
    "        # shift location based on lidar mount points\n",
    "        pr[0,:] += (xoffset - center_point[0])\n",
    "        pr[1,:] += (yoffset - center_point[1])\n",
    "        pr[2,:] += zoffset\n",
    "\n",
    "        # Then rotate to a North map orientation\n",
    "        pr = rotate_data(pr, axis=[0,0,1],theta=np.deg2rad(global_rotation))\n",
    "\n",
    "\n",
    "    return pr"
   ]
  }
 ],
 "metadata": {
  "kernelspec": {
   "display_name": "sos_env",
   "language": "python",
   "name": "python3"
  },
  "language_info": {
   "codemirror_mode": {
    "name": "ipython",
    "version": 3
   },
   "file_extension": ".py",
   "mimetype": "text/x-python",
   "name": "python",
   "nbconvert_exporter": "python",
   "pygments_lexer": "ipython3",
   "version": "3.9.13"
  }
 },
 "nbformat": 4,
 "nbformat_minor": 2
}
