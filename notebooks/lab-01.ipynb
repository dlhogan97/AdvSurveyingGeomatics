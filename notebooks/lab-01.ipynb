{
 "cells": [
  {
   "cell_type": "code",
   "execution_count": 2,
   "metadata": {},
   "outputs": [
    {
     "name": "stdout",
     "output_type": "stream",
     "text": [
      "Collecting package metadata (current_repodata.json): ...working... done\n",
      "Solving environment: ...working... done\n",
      "\n",
      "## Package Plan ##\n",
      "\n",
      "  environment location: C:\\Users\\dlhogan\\anaconda3\\envs\\sos_env\n",
      "\n",
      "  added / updated specs:\n",
      "    - haversine\n",
      "\n",
      "\n",
      "The following packages will be downloaded:\n",
      "\n",
      "    package                    |            build\n",
      "    ---------------------------|-----------------\n",
      "    ca-certificates-2023.7.22  |       h56e8100_0         146 KB  conda-forge\n",
      "    certifi-2023.7.22          |     pyhd8ed1ab_0         150 KB  conda-forge\n",
      "    conda-22.11.1              |   py39hcbf5309_1         908 KB  conda-forge\n",
      "    haversine-2.8.0            |     pyhd8ed1ab_0          13 KB  conda-forge\n",
      "    pluggy-1.3.0               |     pyhd8ed1ab_0          22 KB  conda-forge\n",
      "    ruamel.yaml-0.17.21        |   py39ha55989b_3         180 KB  conda-forge\n",
      "    ruamel.yaml.clib-0.2.7     |   py39ha55989b_1         100 KB  conda-forge\n",
      "    ------------------------------------------------------------\n",
      "                                           Total:         1.5 MB\n",
      "\n",
      "The following NEW packages will be INSTALLED:\n",
      "\n",
      "  haversine          conda-forge/noarch::haversine-2.8.0-pyhd8ed1ab_0\n",
      "  pluggy             conda-forge/noarch::pluggy-1.3.0-pyhd8ed1ab_0\n",
      "  ruamel.yaml        conda-forge/win-64::ruamel.yaml-0.17.21-py39ha55989b_3\n",
      "  ruamel.yaml.clib   conda-forge/win-64::ruamel.yaml.clib-0.2.7-py39ha55989b_1\n",
      "\n",
      "The following packages will be UPDATED:\n",
      "\n",
      "  ca-certificates                       2023.5.7-h56e8100_0 --> 2023.7.22-h56e8100_0\n",
      "  certifi                             2023.5.7-pyhd8ed1ab_0 --> 2023.7.22-pyhd8ed1ab_0\n",
      "  conda                               4.13.0-py39hcbf5309_1 --> 22.11.1-py39hcbf5309_1\n",
      "\n",
      "\n",
      "\n",
      "Downloading and Extracting Packages\n",
      "\n",
      "haversine-2.8.0      | 13 KB     |            |   0% \n",
      "haversine-2.8.0      | 13 KB     | ########## | 100% \n",
      "haversine-2.8.0      | 13 KB     | ########## | 100% \n",
      "\n",
      "certifi-2023.7.22    | 150 KB    |            |   0% \n",
      "certifi-2023.7.22    | 150 KB    | ########## | 100% \n",
      "certifi-2023.7.22    | 150 KB    | ########## | 100% \n",
      "\n",
      "ca-certificates-2023 | 146 KB    |            |   0% \n",
      "ca-certificates-2023 | 146 KB    | ########## | 100% \n",
      "\n",
      "conda-22.11.1        | 908 KB    |            |   0% \n",
      "conda-22.11.1        | 908 KB    | ########## | 100% \n",
      "conda-22.11.1        | 908 KB    | ########## | 100% \n",
      "\n",
      "pluggy-1.3.0         | 22 KB     |            |   0% \n",
      "pluggy-1.3.0         | 22 KB     | ########## | 100% \n",
      "pluggy-1.3.0         | 22 KB     | ########## | 100% \n",
      "\n",
      "ruamel.yaml-0.17.21  | 180 KB    |            |   0% \n",
      "ruamel.yaml-0.17.21  | 180 KB    | ########## | 100% \n",
      "ruamel.yaml-0.17.21  | 180 KB    | ########## | 100% \n",
      "\n",
      "ruamel.yaml.clib-0.2 | 100 KB    |            |   0% \n",
      "ruamel.yaml.clib-0.2 | 100 KB    | #6         |  16% \n",
      "ruamel.yaml.clib-0.2 | 100 KB    | ########## | 100% \n",
      "Preparing transaction: ...working... done\n",
      "Verifying transaction: ...working... done\n",
      "Executing transaction: ...working... done\n"
     ]
    }
   ],
   "source": [
    "!conda install -c conda-forge haversine --yes\n"
   ]
  },
  {
   "cell_type": "code",
   "execution_count": 3,
   "metadata": {},
   "outputs": [],
   "source": [
    "import haversine"
   ]
  },
  {
   "cell_type": "code",
   "execution_count": 9,
   "metadata": {},
   "outputs": [
    {
     "data": {
      "text/plain": [
       "2.996302687421856"
      ]
     },
     "execution_count": 9,
     "metadata": {},
     "output_type": "execute_result"
    }
   ],
   "source": [
    "point1 = (47.6498982,-122.3048406)\n",
    "point2 = (47.6498982,-122.3048410)\n",
    "\n",
    "haversine.haversine(point1, point2, unit='km')*100000"
   ]
  },
  {
   "cell_type": "code",
   "execution_count": 10,
   "metadata": {},
   "outputs": [
    {
     "data": {
      "text/plain": [
       "8.711749407556425"
      ]
     },
     "execution_count": 10,
     "metadata": {},
     "output_type": "execute_result"
    }
   ],
   "source": [
    "point1 = (47.649813,-122.305242)\n",
    "point2 = (47.6498134,-122.3052410)\n",
    "\n",
    "haversine.haversine(point1, point2, unit='km')*100000"
   ]
  },
  {
   "cell_type": "code",
   "execution_count": null,
   "metadata": {},
   "outputs": [],
   "source": []
  }
 ],
 "metadata": {
  "kernelspec": {
   "display_name": "sos_env",
   "language": "python",
   "name": "python3"
  },
  "language_info": {
   "codemirror_mode": {
    "name": "ipython",
    "version": 3
   },
   "file_extension": ".py",
   "mimetype": "text/x-python",
   "name": "python",
   "nbconvert_exporter": "python",
   "pygments_lexer": "ipython3",
   "version": "3.9.13"
  },
  "orig_nbformat": 4
 },
 "nbformat": 4,
 "nbformat_minor": 2
}
