{
 "cells": [
  {
   "cell_type": "code",
   "execution_count": 1,
   "metadata": {},
   "outputs": [],
   "source": [
    "import numpy as np\n",
    "import pandas as pd\n",
    "import ref_index as ri\n",
    "import matplotlib.pyplot as plt"
   ]
  },
  {
   "cell_type": "code",
   "execution_count": 3,
   "metadata": {},
   "outputs": [],
   "source": [
    "# make an array of temperature values ranging from -15 to 40 degrees\n",
    "temp = np.arange(-15, 41, 1)\n",
    "# make an array of relative humidity values ranging from 0 to 100%\n",
    "rh = np.arange(20, 90, 1)\n",
    "# make an aray of pressure values ranging from 970 to 1050 kPa\n",
    "p = np.arange(97, 106, 1)\n",
    "\n",
    "# set wavelength to 1050 nm\n",
    "wavelength = 1050\n",
    "\n",
    "# make a 3d array of refractive index values\n",
    "# the first dimension is temperature\n",
    "# the second dimension is relative humidity\n",
    "# the third dimension is pressure\n",
    "# the values are the refractive index values\n",
    "n = np.zeros((len(temp), len(rh), len(p)))\n",
    "for i in range(len(temp)):\n",
    "    for j in range(len(rh)):\n",
    "        for k in range(len(p)):\n",
    "            n[i, j, k] = ri.ciddor(wavelength, temp[i], rh[j], p[k])"
   ]
  },
  {
   "cell_type": "code",
   "execution_count": 15,
   "metadata": {},
   "outputs": [
    {
     "ename": "TypeError",
     "evalue": "gca() got an unexpected keyword argument 'projection'",
     "output_type": "error",
     "traceback": [
      "\u001b[1;31m---------------------------------------------------------------------------\u001b[0m",
      "\u001b[1;31mTypeError\u001b[0m                                 Traceback (most recent call last)",
      "\u001b[1;32mc:\\Users\\dlhogan\\OneDrive - UW\\Documents\\GitHub\\AdvSurveyingGeomatics\\notebooks\\lab-07.ipynb Cell 3\u001b[0m line \u001b[0;36m1\n\u001b[0;32m     <a href='vscode-notebook-cell:/c%3A/Users/dlhogan/OneDrive%20-%20UW/Documents/GitHub/AdvSurveyingGeomatics/notebooks/lab-07.ipynb#W3sZmlsZQ%3D%3D?line=9'>10</a>\u001b[0m \u001b[39m# plot the meshgrid\u001b[39;00m\n\u001b[0;32m     <a href='vscode-notebook-cell:/c%3A/Users/dlhogan/OneDrive%20-%20UW/Documents/GitHub/AdvSurveyingGeomatics/notebooks/lab-07.ipynb#W3sZmlsZQ%3D%3D?line=10'>11</a>\u001b[0m fig \u001b[39m=\u001b[39m plt\u001b[39m.\u001b[39mfigure()\n\u001b[1;32m---> <a href='vscode-notebook-cell:/c%3A/Users/dlhogan/OneDrive%20-%20UW/Documents/GitHub/AdvSurveyingGeomatics/notebooks/lab-07.ipynb#W3sZmlsZQ%3D%3D?line=11'>12</a>\u001b[0m ax \u001b[39m=\u001b[39m fig\u001b[39m.\u001b[39;49mgca(projection\u001b[39m=\u001b[39;49m\u001b[39m'\u001b[39;49m\u001b[39m3d\u001b[39;49m\u001b[39m'\u001b[39;49m)\n\u001b[0;32m     <a href='vscode-notebook-cell:/c%3A/Users/dlhogan/OneDrive%20-%20UW/Documents/GitHub/AdvSurveyingGeomatics/notebooks/lab-07.ipynb#W3sZmlsZQ%3D%3D?line=12'>13</a>\u001b[0m ax\u001b[39m.\u001b[39mplot_surface(X, Y, n[\u001b[39m20\u001b[39m, :, :])\n",
      "\u001b[1;31mTypeError\u001b[0m: gca() got an unexpected keyword argument 'projection'"
     ]
    },
    {
     "data": {
      "text/plain": [
       "<Figure size 640x480 with 0 Axes>"
      ]
     },
     "metadata": {},
     "output_type": "display_data"
    }
   ],
   "source": [
    "# make a meshplot of the refractive index values for rh and p\n",
    "\n"
   ]
  },
  {
   "cell_type": "code",
   "execution_count": null,
   "metadata": {},
   "outputs": [],
   "source": []
  }
 ],
 "metadata": {
  "kernelspec": {
   "display_name": "cewa537_venv",
   "language": "python",
   "name": "python3"
  },
  "language_info": {
   "codemirror_mode": {
    "name": "ipython",
    "version": 3
   },
   "file_extension": ".py",
   "mimetype": "text/x-python",
   "name": "python",
   "nbconvert_exporter": "python",
   "pygments_lexer": "ipython3",
   "version": "3.9.13"
  }
 },
 "nbformat": 4,
 "nbformat_minor": 2
}
